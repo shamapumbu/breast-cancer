{
 "cells": [
  {
   "cell_type": "code",
   "execution_count": 1,
   "id": "1a2a993b",
   "metadata": {},
   "outputs": [],
   "source": [
    "import pandas as pd\n",
    "import numpy as np\n",
    "import matplotlib.pyplot as plt"
   ]
  },
  {
   "cell_type": "code",
   "execution_count": 2,
   "id": "2a0a3df6",
   "metadata": {},
   "outputs": [
    {
     "name": "stdout",
     "output_type": "stream",
     "text": [
      "     a   b   c  d  e   f   g   h  i  j\n",
      "0    5   1   1  1  2   1   3   1  1  2\n",
      "1    5   4   4  5  7  10   3   2  1  2\n",
      "2    3   1   1  1  2   2   3   1  1  2\n",
      "3    6   8   8  1  3   4   3   7  1  2\n",
      "4    4   1   1  3  2   1   3   1  1  2\n",
      "..  ..  ..  .. .. ..  ..  ..  .. .. ..\n",
      "694  3   1   1  1  3   2   1   1  1  2\n",
      "695  2   1   1  1  2   1   1   1  1  2\n",
      "696  5  10  10  3  7   3   8  10  2  4\n",
      "697  4   8   6  4  3   4  10   6  1  4\n",
      "698  4   8   8  5  4   5  10   4  1  4\n",
      "\n",
      "[699 rows x 10 columns]\n"
     ]
    }
   ],
   "source": [
    "# TASK 1: REMOVING THE FIRST COLUMN\n",
    "\n",
    "original_sample = pd.read_csv('breast-cancer-wisconsin.data', names=['aa','a','b','c','d','e','f','g','h','i','j'])\n",
    "cut_sample = original_sample.iloc[:, [1,2,3,4,5,6,7,8,9,10]]\n",
    "print (cut_sample)\n",
    "\n",
    "\n"
   ]
  },
  {
   "cell_type": "code",
   "execution_count": 3,
   "id": "8933c368",
   "metadata": {},
   "outputs": [],
   "source": [
    "# The researchers were trying to see whether they could use certain biological data obtained through tests, to\n",
    "# achieve the goal of successfully carrying out cancer diagnosis using linear regression\n",
    "\n",
    "# 10 meaningful columns in this dataset\n",
    "\n",
    "# 699 rows"
   ]
  },
  {
   "cell_type": "code",
   "execution_count": 4,
   "id": "b0ce5925",
   "metadata": {},
   "outputs": [
    {
     "name": "stdout",
     "output_type": "stream",
     "text": [
      "     a   b   c  d  e   f   g   h  i  j\n",
      "0    5   1   1  1  2   1   3   1  1  2\n",
      "1    5   4   4  5  7  10   3   2  1  2\n",
      "2    3   1   1  1  2   2   3   1  1  2\n",
      "3    6   8   8  1  3   4   3   7  1  2\n",
      "4    4   1   1  3  2   1   3   1  1  2\n",
      "..  ..  ..  .. .. ..  ..  ..  .. .. ..\n",
      "694  3   1   1  1  3   2   1   1  1  2\n",
      "695  2   1   1  1  2   1   1   1  1  2\n",
      "696  5  10  10  3  7   3   8  10  2  4\n",
      "697  4   8   6  4  3   4  10   6  1  4\n",
      "698  4   8   8  5  4   5  10   4  1  4\n",
      "\n",
      "[699 rows x 10 columns]\n",
      "    a  b  c  d  e    f  g  h  i  j\n",
      "23  8  4  5  1  2  NaN  7  3  1  4\n"
     ]
    }
   ],
   "source": [
    "# TASK 2.1\n",
    "cut_sample_copy = cut_sample\n",
    "print(cut_sample_copy.replace(\"?\", np.NaN))\n",
    "\n",
    "# TASK 2.2\n",
    "cut_sample_copy = cut_sample_copy.replace({'?':np.NaN})\n",
    "print(cut_sample_copy.loc[[23]])\n",
    "# Only one column (column at index 6 , which is the column representing Bare Nuclei), has missing values.\n",
    "# There are 16 missing values"
   ]
  },
  {
   "cell_type": "code",
   "execution_count": 5,
   "id": "8db76518",
   "metadata": {},
   "outputs": [
    {
     "name": "stdout",
     "output_type": "stream",
     "text": [
      "699\n",
      "683\n",
      "    a  b  c  d  e    f  g  h  i  j\n",
      "23  8  4  5  1  2  1.0  7  3  1  4\n"
     ]
    }
   ],
   "source": [
    "# TASK 2.3\n",
    "# rows before dropping \n",
    "print(len(cut_sample_copy))\n",
    "\n",
    "temp = cut_sample_copy\n",
    "\n",
    "temp = temp.dropna()\n",
    "temp = temp.reset_index(drop=True)\n",
    "\n",
    "# rows after dropping\n",
    "print(len(temp))\n",
    "\n",
    "\n",
    "cut_sample_copy = cut_sample_copy.fillna(cut_sample_copy.median())\n",
    "print(cut_sample_copy.loc[[23]])\n"
   ]
  },
  {
   "cell_type": "code",
   "execution_count": 6,
   "id": "7d37a643",
   "metadata": {},
   "outputs": [
    {
     "name": "stdout",
     "output_type": "stream",
     "text": [
      "a     int64\n",
      "b     int64\n",
      "c     int64\n",
      "d     int64\n",
      "e     int64\n",
      "f    object\n",
      "g     int64\n",
      "h     int64\n",
      "i     int64\n",
      "j     int64\n",
      "dtype: object\n",
      "a    int64\n",
      "b    int64\n",
      "c    int64\n",
      "d    int64\n",
      "e    int64\n",
      "f    int32\n",
      "g    int64\n",
      "h    int64\n",
      "i    int64\n",
      "j    int64\n",
      "dtype: object\n"
     ]
    }
   ],
   "source": [
    "# TASK 3.1\n",
    "print(cut_sample_copy.dtypes)\n",
    "convert_dict = {'f': int }\n",
    "cut_sample_copy = cut_sample_copy.astype(convert_dict)\n",
    "print(cut_sample_copy.dtypes)"
   ]
  },
  {
   "cell_type": "code",
   "execution_count": null,
   "id": "e3569cbd",
   "metadata": {},
   "outputs": [],
   "source": []
  },
  {
   "cell_type": "code",
   "execution_count": 7,
   "id": "ea293b66",
   "metadata": {},
   "outputs": [
    {
     "data": {
      "image/png": "[encoded data removed]",
      "text/plain": [
       "<Figure size 640x480 with 1 Axes>"
      ]
     },
     "metadata": {},
     "output_type": "display_data"
    }
   ],
   "source": [
    "\n",
    "plt.boxplot(cut_sample_copy)\n",
    "\n",
    "plt.show()\n",
    "# 5 COLUMNS HAVE OUTLIERS\n"
   ]
  },
  {
   "cell_type": "code",
   "execution_count": 8,
   "id": "e2d18b12",
   "metadata": {},
   "outputs": [
    {
     "name": "stdout",
     "output_type": "stream",
     "text": [
      "Number of rows before discarding outliers = 699\n",
      "Number of rows after discarding missing values = 648\n"
     ]
    }
   ],
   "source": [
    "othertemp = cut_sample_copy\n",
    "numOfColumns = len(othertemp.columns)\n",
    "\n",
    "z = (othertemp - othertemp.mean())/othertemp.std()\n",
    "print('Number of rows before discarding outliers = %d' % (z.shape[0]))\n",
    "\n",
    "z2 = z.loc[((z > -3).sum(axis=1)== numOfColumns) & ((z <= 3).sum(axis=1)==numOfColumns),:]\n",
    "print('Number of rows after discarding missing values = %d' % (z2.shape[0]))\n",
    "\n",
    "# 699 rows before discarding outliers\n",
    "# 648 rows after discarding outliers"
   ]
  },
  {
   "cell_type": "code",
   "execution_count": 9,
   "id": "0e35277c",
   "metadata": {},
   "outputs": [
    {
     "name": "stdout",
     "output_type": "stream",
     "text": [
      "699\n",
      "457\n"
     ]
    }
   ],
   "source": [
    "# TASK 4.1\n",
    "cut_sample_copy.duplicated().sum()\n",
    "# 242 duplicate rows/entries\n",
    "# TASK 4.2\n",
    "\n",
    "# Number of rows before removing duplicates:\n",
    "print(len(cut_sample_copy))\n",
    "# 699\n",
    "\n",
    "# Number of rows before removing duplicates:\n",
    "cut_sample_copy = cut_sample_copy.drop_duplicates()\n",
    "print(len(cut_sample_copy))\n",
    "# 457"
   ]
  }
 ],
 "metadata": {
  "kernelspec": {
   "display_name": "Python 3 (ipykernel)",
   "language": "python",
   "name": "python3"
  },
  "language_info": {
   "codemirror_mode": {
    "name": "ipython",
    "version": 3
   },
   "file_extension": ".py",
   "mimetype": "text/x-python",
   "name": "python",
   "nbconvert_exporter": "python",
   "pygments_lexer": "ipython3",
   "version": "3.10.7"
  }
 },
 "nbformat": 4,
 "nbformat_minor": 5
}
